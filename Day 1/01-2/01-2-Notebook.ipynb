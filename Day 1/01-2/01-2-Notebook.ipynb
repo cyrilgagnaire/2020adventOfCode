{
 "metadata": {
  "language_info": {
   "codemirror_mode": {
    "name": "ipython",
    "version": 3
   },
   "file_extension": ".py",
   "mimetype": "text/x-python",
   "name": "python",
   "nbconvert_exporter": "python",
   "pygments_lexer": "ipython3",
   "version": "3.9.0-final"
  },
  "orig_nbformat": 2,
  "kernelspec": {
   "name": "python3",
   "display_name": "Python 3.9.0 64-bit",
   "metadata": {
    "interpreter": {
     "hash": "2fdb9e7ab4277f3f32780ab865484de8cb64d62e7beb01a079e4d95bb0a934a2"
    }
   }
  }
 },
 "nbformat": 4,
 "nbformat_minor": 2,
 "cells": [
  {
   "cell_type": "code",
   "execution_count": 1,
   "metadata": {},
   "outputs": [],
   "source": [
    "import pandas as pd"
   ]
  },
  {
   "cell_type": "code",
   "execution_count": 2,
   "metadata": {},
   "outputs": [],
   "source": [
    "input_df = pd.read_csv(r'C:\\git\\github\\public\\2020adventOfCode\\01-2\\01-2-input.txt', header=None)"
   ]
  },
  {
   "cell_type": "code",
   "execution_count": 3,
   "metadata": {},
   "outputs": [
    {
     "output_type": "execute_result",
     "data": {
      "text/plain": [
       "      0\n",
       "0  1664\n",
       "1  1909\n",
       "2  1904\n",
       "3  1638\n",
       "4  1844"
      ],
      "text/html": "<div>\n<style scoped>\n    .dataframe tbody tr th:only-of-type {\n        vertical-align: middle;\n    }\n\n    .dataframe tbody tr th {\n        vertical-align: top;\n    }\n\n    .dataframe thead th {\n        text-align: right;\n    }\n</style>\n<table border=\"1\" class=\"dataframe\">\n  <thead>\n    <tr style=\"text-align: right;\">\n      <th></th>\n      <th>0</th>\n    </tr>\n  </thead>\n  <tbody>\n    <tr>\n      <th>0</th>\n      <td>1664</td>\n    </tr>\n    <tr>\n      <th>1</th>\n      <td>1909</td>\n    </tr>\n    <tr>\n      <th>2</th>\n      <td>1904</td>\n    </tr>\n    <tr>\n      <th>3</th>\n      <td>1638</td>\n    </tr>\n    <tr>\n      <th>4</th>\n      <td>1844</td>\n    </tr>\n  </tbody>\n</table>\n</div>"
     },
     "metadata": {},
     "execution_count": 3
    }
   ],
   "source": [
    "input_df.head(5)"
   ]
  },
  {
   "cell_type": "code",
   "execution_count": 5,
   "metadata": {
    "tags": []
   },
   "outputs": [
    {
     "output_type": "stream",
     "name": "stdout",
     "text": [
      "1030 + 268 + 722 = 2020\n199300880\n"
     ]
    }
   ],
   "source": [
    "for i in range(len(input_df)-2):\n",
    "    for j in range(i+1, len(input_df)-1):\n",
    "        for k in range(j+1, len(input_df)):\n",
    "            result = input_df[0][i] + input_df[0][j] + input_df[0][k]\n",
    "            if result == 2020:\n",
    "                NumberA = input_df[0][i]\n",
    "                NumberB = input_df[0][j]\n",
    "                NumberC = input_df[0][k]\n",
    "                print(str(input_df[0][i]) + \" + \" + str(input_df[0][j]) + \" + \" + str(input_df[0][k]) +\" = \" + str(result))\n",
    "                print(NumberA * NumberB * NumberC)\n"
   ]
  }
 ]
}