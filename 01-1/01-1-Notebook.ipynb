{
 "metadata": {
  "language_info": {
   "codemirror_mode": {
    "name": "ipython",
    "version": 3
   },
   "file_extension": ".py",
   "mimetype": "text/x-python",
   "name": "python",
   "nbconvert_exporter": "python",
   "pygments_lexer": "ipython3",
   "version": "3.9.0-final"
  },
  "orig_nbformat": 2,
  "kernelspec": {
   "name": "python3",
   "display_name": "Python 3.9.0 64-bit",
   "metadata": {
    "interpreter": {
     "hash": "2fdb9e7ab4277f3f32780ab865484de8cb64d62e7beb01a079e4d95bb0a934a2"
    }
   }
  }
 },
 "nbformat": 4,
 "nbformat_minor": 2,
 "cells": [
  {
   "cell_type": "code",
   "execution_count": 1,
   "metadata": {},
   "outputs": [],
   "source": [
    "import pandas as pd"
   ]
  },
  {
   "cell_type": "code",
   "execution_count": 2,
   "metadata": {},
   "outputs": [],
   "source": [
    "input_df = pd.read_csv(r'C:\\git\\github\\public\\2020adventOfCode\\01-1\\input.txt', header=None)"
   ]
  },
  {
   "cell_type": "code",
   "execution_count": 67,
   "metadata": {
    "tags": []
   },
   "outputs": [
    {
     "output_type": "stream",
     "name": "stdout",
     "text": [
      "1228 + 792 = 2020\n972576\n"
     ]
    }
   ],
   "source": [
    "for i in range(len(input_df)-1):\n",
    "    for j in range(i+1, len(input_df)):\n",
    "        result = input_df[0][i] + input_df[0][j]\n",
    "        if result == 2020:\n",
    "            NumberA = input_df[0][i]\n",
    "            NumberB = input_df[0][j]\n",
    "            print(str(input_df[0][i]) + \" + \" + str(input_df[0][j]) + \" = \" + str(result))\n",
    "            print(NumberA * NumberB)\n"
   ]
  }
 ]
}