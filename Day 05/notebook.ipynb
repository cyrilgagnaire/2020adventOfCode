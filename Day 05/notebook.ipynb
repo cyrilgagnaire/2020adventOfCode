{
 "metadata": {
  "language_info": {
   "codemirror_mode": {
    "name": "ipython",
    "version": 3
   },
   "file_extension": ".py",
   "mimetype": "text/x-python",
   "name": "python",
   "nbconvert_exporter": "python",
   "pygments_lexer": "ipython3",
   "version": "3.9.0-final"
  },
  "orig_nbformat": 2,
  "kernelspec": {
   "name": "python3",
   "display_name": "Python 3.9.0 64-bit",
   "metadata": {
    "interpreter": {
     "hash": "2fdb9e7ab4277f3f32780ab865484de8cb64d62e7beb01a079e4d95bb0a934a2"
    }
   }
  }
 },
 "nbformat": 4,
 "nbformat_minor": 2,
 "cells": [
  {
   "cell_type": "code",
   "execution_count": 56,
   "metadata": {},
   "outputs": [],
   "source": [
    "import pandas as pd\n",
    "import numpy as np"
   ]
  },
  {
   "cell_type": "code",
   "execution_count": 44,
   "metadata": {},
   "outputs": [],
   "source": [
    "def findSeatId(boardingPass):\n",
    "    midPoint = 0\n",
    "    top = 127\n",
    "    bottom = 0\n",
    "    for i in range(7):\n",
    "        midPoint = ((top - bottom + 1) / 2)\n",
    "        if boardingPass[i] == \"F\":\n",
    "            top = top - midPoint\n",
    "        else:\n",
    "            bottom = bottom + midPoint\n",
    "    row = bottom\n",
    "\n",
    "    midPoint = 0\n",
    "    bottom = 0\n",
    "    top = 7\n",
    "    for j in range(7,10):\n",
    "        midPoint = ((top - bottom + 1) / 2)\n",
    "        if boardingPass[j] == \"L\":\n",
    "            top = top - midPoint\n",
    "        else:\n",
    "            bottom = bottom + midPoint\n",
    "    column = bottom\n",
    "\n",
    "    seatId = (row*8) + column\n",
    "    return seatId"
   ]
  },
  {
   "cell_type": "code",
   "execution_count": 50,
   "metadata": {},
   "outputs": [
    {
     "output_type": "stream",
     "name": "stdout",
     "text": [
      "813.0\n"
     ]
    }
   ],
   "source": [
    "with open(\"input.txt\") as f:\n",
    "    _result = 0\n",
    "    for line in f:\n",
    "        if findSeatId(line) > _result:\n",
    "            _result = findSeatId(line)\n",
    "Print(\"Part 1: \" + str(_result))\n",
    "f.close()"
   ]
  },
  {
   "cell_type": "code",
   "execution_count": 77,
   "metadata": {},
   "outputs": [
    {
     "output_type": "stream",
     "name": "stdout",
     "text": [
      "         Status\n0     Not found\n1     Not found\n2     Not found\n3     Not found\n4     Not found\n...         ...\n1019  Not found\n1020  Not found\n1021  Not found\n1022  Not found\n1023  Not found\n\n[1024 rows x 1 columns]\n"
     ]
    }
   ],
   "source": [
    "df = pd.DataFrame(index = np.arange(1024), columns=np.arange(1))\n",
    "df.columns = ['Status']\n",
    "for i in range(1024):\n",
    "    seat=1\n",
    "    df.at[i,'Status']=\"Not found\"\n",
    "    seat+=1"
   ]
  },
  {
   "cell_type": "code",
   "execution_count": 106,
   "metadata": {},
   "outputs": [],
   "source": [
    "with open(\"input.txt\") as f:\n",
    "    for line in f:\n",
    "        seat = int(findSeatId(line))\n",
    "        df.at[seat,'Status']=\"Found\"\n",
    "f.close()"
   ]
  },
  {
   "cell_type": "code",
   "execution_count": 117,
   "metadata": {},
   "outputs": [
    {
     "output_type": "stream",
     "name": "stdout",
     "text": [
      "Part 2: 612\n"
     ]
    }
   ],
   "source": [
    "\n",
    "for i in range(1,1024):\n",
    "    if df['Status'][i] == \"Not found\":\n",
    "        if df['Status'][i-1] == \"Found\":\n",
    "            print(\"Part 2: \" + str(i))\n",
    "            break"
   ]
  },
  {
   "cell_type": "code",
   "execution_count": null,
   "metadata": {},
   "outputs": [],
   "source": []
  }
 ]
}