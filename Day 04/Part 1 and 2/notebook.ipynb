{
 "metadata": {
  "language_info": {
   "codemirror_mode": {
    "name": "ipython",
    "version": 3
   },
   "file_extension": ".py",
   "mimetype": "text/x-python",
   "name": "python",
   "nbconvert_exporter": "python",
   "pygments_lexer": "ipython3",
   "version": "3.9.0-final"
  },
  "orig_nbformat": 2,
  "kernelspec": {
   "name": "python3",
   "display_name": "Python 3.9.0 64-bit",
   "metadata": {
    "interpreter": {
     "hash": "2fdb9e7ab4277f3f32780ab865484de8cb64d62e7beb01a079e4d95bb0a934a2"
    }
   }
  }
 },
 "nbformat": 4,
 "nbformat_minor": 2,
 "cells": [
  {
   "cell_type": "code",
   "execution_count": 44,
   "metadata": {},
   "outputs": [],
   "source": [
    "import re"
   ]
  },
  {
   "cell_type": "code",
   "execution_count": 45,
   "metadata": {},
   "outputs": [],
   "source": [
    "def validate_passport(passport):\n",
    "    return all(key in passport for key in [\"byr\", \"iyr\", \"eyr\", \"hgt\", \"hcl\", \"ecl\", \"pid\"])"
   ]
  },
  {
   "cell_type": "code",
   "execution_count": 46,
   "metadata": {},
   "outputs": [],
   "source": [
    "def parse_passport(passport):\n",
    "    # Convert passport to dict\n",
    "    passport_dict = dict()\n",
    "    for item in re.split(' |\\n', passport):\n",
    "        passport_dict[item.split(':')[0]] = item.split(':')[1]\n",
    "    \n",
    "    # Validate specific elements\n",
    "    if validate_passport(passport):\n",
    "        conditions = [  int(passport_dict['byr']) not in range(1920, 2003),\n",
    "                        int(passport_dict['iyr']) not in range(2010, 2021),\n",
    "                        int(passport_dict['eyr']) not in range(2020, 2031),\n",
    "                        passport_dict['hcl'][0] != \"#\" or len(passport_dict['hcl']) != 7 or not passport_dict['hcl'][1:].isalnum(),\n",
    "                        passport_dict['ecl'] not in ['amb', 'blu', 'brn', 'gry', 'grn', 'hzl', 'oth'],\n",
    "                        len(passport_dict['pid']) != 9,\n",
    "                        not all(x.isdigit() for x in passport_dict['pid']),\n",
    "                        not any(passport_dict['hgt'][-2:] == measurement for measurement in  [\"in\", \"cm\"]),\n",
    "                        passport_dict['hgt'][-2:] == \"in\" and int(passport_dict['hgt'][:-2]) not in range(59, 77),\n",
    "                        passport_dict['hgt'][-2:] == \"cm\" and int(passport_dict['hgt'][:-2]) not in range(150, 194)]\n",
    "        if any(conditions):\n",
    "            return False\n",
    "    else:\n",
    "        return False\n",
    "    return True"
   ]
  },
  {
   "cell_type": "code",
   "execution_count": 47,
   "metadata": {},
   "outputs": [],
   "source": [
    "def part_one(data):\n",
    "    return sum([validate_passport(passport) for passport in data])"
   ]
  },
  {
   "cell_type": "code",
   "execution_count": 48,
   "metadata": {},
   "outputs": [],
   "source": [
    "def part_two(data):\n",
    "    return sum([parse_passport(passport) for passport in data])"
   ]
  },
  {
   "cell_type": "code",
   "execution_count": 49,
   "metadata": {},
   "outputs": [
    {
     "output_type": "stream",
     "name": "stdout",
     "text": [
      "Part One: 245\nPart Two: 133\n"
     ]
    }
   ],
   "source": [
    "with open(\"input.txt\") as f:\n",
    "    data = [(x.strip()) for x in f.read().split(\"\\n\\n\")]\n",
    "    print(f\"Part One: {part_one(data)}\")\n",
    "    print(f\"Part Two: {part_two(data)}\")"
   ]
  }
 ]
}