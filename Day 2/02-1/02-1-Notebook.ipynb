{
 "metadata": {
  "language_info": {
   "codemirror_mode": {
    "name": "ipython",
    "version": 3
   },
   "file_extension": ".py",
   "mimetype": "text/x-python",
   "name": "python",
   "nbconvert_exporter": "python",
   "pygments_lexer": "ipython3",
   "version": "3.9.0-final"
  },
  "orig_nbformat": 2,
  "kernelspec": {
   "name": "python3",
   "display_name": "Python 3.9.0 64-bit",
   "metadata": {
    "interpreter": {
     "hash": "2fdb9e7ab4277f3f32780ab865484de8cb64d62e7beb01a079e4d95bb0a934a2"
    }
   }
  }
 },
 "nbformat": 4,
 "nbformat_minor": 2,
 "cells": [
  {
   "cell_type": "code",
   "execution_count": 2,
   "metadata": {},
   "outputs": [],
   "source": [
    "import pandas as pd"
   ]
  },
  {
   "cell_type": "code",
   "execution_count": 6,
   "metadata": {},
   "outputs": [],
   "source": [
    "input_df = pd.read_csv(r'C:\\git\\github\\public\\2020adventOfCode\\Day 2\\02-1\\02-1-input.txt', delim_whitespace=True, header=None)"
   ]
  },
  {
   "cell_type": "code",
   "execution_count": 10,
   "metadata": {},
   "outputs": [],
   "source": [
    "input_df.columns = ['criteria','letter','password']"
   ]
  },
  {
   "cell_type": "code",
   "execution_count": 12,
   "metadata": {},
   "outputs": [],
   "source": [
    "input_df[['Min','Max']] = input_df['criteria'].str.split('-', expand=True)"
   ]
  },
  {
   "cell_type": "code",
   "execution_count": 14,
   "metadata": {},
   "outputs": [],
   "source": [
    "input_df['letter'] = input_df['letter'].str[:-1]"
   ]
  },
  {
   "cell_type": "code",
   "execution_count": 15,
   "metadata": {},
   "outputs": [
    {
     "output_type": "execute_result",
     "data": {
      "text/plain": [
       "  criteria letter           password Min Max\n",
       "0      5-6      s         zssmssbsms   5   6\n",
       "1      3-6      j           jjjjjrrj   3   6\n",
       "2      4-7      k          kfkgkkkkk   4   7\n",
       "3      2-3      n            nkbgfnn   2   3\n",
       "4     7-12      h  hhhhhhdhhhhhfhhhh   7  12"
      ],
      "text/html": "<div>\n<style scoped>\n    .dataframe tbody tr th:only-of-type {\n        vertical-align: middle;\n    }\n\n    .dataframe tbody tr th {\n        vertical-align: top;\n    }\n\n    .dataframe thead th {\n        text-align: right;\n    }\n</style>\n<table border=\"1\" class=\"dataframe\">\n  <thead>\n    <tr style=\"text-align: right;\">\n      <th></th>\n      <th>criteria</th>\n      <th>letter</th>\n      <th>password</th>\n      <th>Min</th>\n      <th>Max</th>\n    </tr>\n  </thead>\n  <tbody>\n    <tr>\n      <th>0</th>\n      <td>5-6</td>\n      <td>s</td>\n      <td>zssmssbsms</td>\n      <td>5</td>\n      <td>6</td>\n    </tr>\n    <tr>\n      <th>1</th>\n      <td>3-6</td>\n      <td>j</td>\n      <td>jjjjjrrj</td>\n      <td>3</td>\n      <td>6</td>\n    </tr>\n    <tr>\n      <th>2</th>\n      <td>4-7</td>\n      <td>k</td>\n      <td>kfkgkkkkk</td>\n      <td>4</td>\n      <td>7</td>\n    </tr>\n    <tr>\n      <th>3</th>\n      <td>2-3</td>\n      <td>n</td>\n      <td>nkbgfnn</td>\n      <td>2</td>\n      <td>3</td>\n    </tr>\n    <tr>\n      <th>4</th>\n      <td>7-12</td>\n      <td>h</td>\n      <td>hhhhhhdhhhhhfhhhh</td>\n      <td>7</td>\n      <td>12</td>\n    </tr>\n  </tbody>\n</table>\n</div>"
     },
     "metadata": {},
     "execution_count": 15
    }
   ],
   "source": [
    "input_df.head()"
   ]
  },
  {
   "cell_type": "code",
   "execution_count": 35,
   "metadata": {
    "tags": []
   },
   "outputs": [
    {
     "output_type": "stream",
     "name": "stdout",
     "text": [
      "638\n"
     ]
    }
   ],
   "source": [
    "numberOfValidPassword = 0\n",
    "for row in range(len(input_df)):\n",
    "    string = input_df['password'][row]\n",
    "    numberOfHit = 0\n",
    "    for letter in string:\n",
    "        if letter == input_df['letter'][row]:\n",
    "            numberOfHit = numberOfHit + 1\n",
    "    if numberOfHit >= int(input_df['Min'][row]) and numberOfHit <= int(input_df['Max'][row]):\n",
    "        numberOfValidPassword = numberOfValidPassword + 1\n",
    "print(numberOfValidPassword)"
   ]
  }
 ]
}