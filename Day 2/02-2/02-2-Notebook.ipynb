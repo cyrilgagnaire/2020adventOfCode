{
 "metadata": {
  "language_info": {
   "codemirror_mode": {
    "name": "ipython",
    "version": 3
   },
   "file_extension": ".py",
   "mimetype": "text/x-python",
   "name": "python",
   "nbconvert_exporter": "python",
   "pygments_lexer": "ipython3",
   "version": "3.9.0-final"
  },
  "orig_nbformat": 2,
  "kernelspec": {
   "name": "python3",
   "display_name": "Python 3.9.0 64-bit",
   "metadata": {
    "interpreter": {
     "hash": "2fdb9e7ab4277f3f32780ab865484de8cb64d62e7beb01a079e4d95bb0a934a2"
    }
   }
  }
 },
 "nbformat": 4,
 "nbformat_minor": 2,
 "cells": [
  {
   "cell_type": "code",
   "execution_count": 33,
   "metadata": {},
   "outputs": [],
   "source": [
    "import pandas as pd"
   ]
  },
  {
   "cell_type": "code",
   "execution_count": 34,
   "metadata": {},
   "outputs": [],
   "source": [
    "input_df = pd.read_csv(r'C:\\git\\github\\public\\2020adventOfCode\\Day 2\\02-2\\02-2-input.txt', delim_whitespace=True, header=None)"
   ]
  },
  {
   "cell_type": "code",
   "execution_count": 35,
   "metadata": {},
   "outputs": [],
   "source": [
    "input_df.columns = ['criteria','letter','password']"
   ]
  },
  {
   "cell_type": "code",
   "execution_count": 36,
   "metadata": {},
   "outputs": [],
   "source": [
    "input_df[['Pos1','Pos2']] = input_df['criteria'].str.split('-', expand=True)"
   ]
  },
  {
   "cell_type": "code",
   "execution_count": 37,
   "metadata": {},
   "outputs": [],
   "source": [
    "input_df['letter'] = input_df['letter'].str[:-1]"
   ]
  },
  {
   "cell_type": "code",
   "execution_count": 39,
   "metadata": {
    "tags": []
   },
   "outputs": [
    {
     "output_type": "stream",
     "name": "stdout",
     "text": [
      "506\n"
     ]
    }
   ],
   "source": [
    "numberOfValidPassword = 0\n",
    "for row in range(len(input_df)):\n",
    "    string = input_df['password'][row]\n",
    "    Position1 = int(input_df['Pos1'][row])-1\n",
    "    Position2 = int(input_df['Pos2'][row])-1\n",
    "    letter = input_df['letter'][row]\n",
    "    if string[Position1] == letter:\n",
    "        if string[Position2] != letter:\n",
    "            numberOfValidPassword += 1\n",
    "    elif string[Position2] != letter:\n",
    "        numberOfValidPassword += 1\n",
    "print(numberOfValidPassword)"
   ]
  }
 ]
}