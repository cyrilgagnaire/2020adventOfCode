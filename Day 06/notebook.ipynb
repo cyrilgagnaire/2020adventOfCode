{
 "metadata": {
  "language_info": {
   "codemirror_mode": {
    "name": "ipython",
    "version": 3
   },
   "file_extension": ".py",
   "mimetype": "text/x-python",
   "name": "python",
   "nbconvert_exporter": "python",
   "pygments_lexer": "ipython3",
   "version": "3.9.0-final"
  },
  "orig_nbformat": 2,
  "kernelspec": {
   "name": "python3",
   "display_name": "Python 3.9.0 64-bit",
   "metadata": {
    "interpreter": {
     "hash": "2fdb9e7ab4277f3f32780ab865484de8cb64d62e7beb01a079e4d95bb0a934a2"
    }
   }
  }
 },
 "nbformat": 4,
 "nbformat_minor": 2,
 "cells": [
  {
   "cell_type": "code",
   "execution_count": null,
   "metadata": {},
   "outputs": [],
   "source": [
    "import pandas as pd\n",
    "import numpy as np"
   ]
  },
  {
   "cell_type": "code",
   "execution_count": null,
   "metadata": {
    "tags": [
     "outputPrepend"
    ]
   },
   "outputs": [],
   "source": [
    "with open(\"input.txt\") as f:\n",
    "    _counts = 0\n",
    "    for x in f.read().split(\"\\n\\n\"):\n",
    "        answers = x.replace(\"\\n\", \"\")\n",
    "        _resultList = []\n",
    "        _result = 0\n",
    "        for letter in answers:\n",
    "            if letter not in _resultList:\n",
    "                _resultList.append(letter)\n",
    "                _result += 1\n",
    "        _counts+=_result\n",
    "print(_counts)\n",
    "f.close()"
   ]
  },
  {
   "cell_type": "code",
   "execution_count": 59,
   "metadata": {},
   "outputs": [],
   "source": [
    "with open(\"input.txt\") as f:\n",
    "    file = f.read()\n",
    "f.close()\n",
    "\n",
    "data = file.split('\\n')"
   ]
  },
  {
   "cell_type": "code",
   "execution_count": 60,
   "metadata": {},
   "outputs": [
    {
     "output_type": "stream",
     "name": "stdout",
     "text": [
      "3427\n"
     ]
    }
   ],
   "source": [
    "group_answers = []\n",
    "running_total = 0\n",
    "person_count = 0\n",
    "# I'm keeping track of the current group for debugging purposes here.\n",
    "current_group = 1\n",
    "\n",
    "for answers in data:\n",
    "    # This is how we'll catch new lines (len of 0), ie a different group.\n",
    "    if len(answers) != 0:\n",
    "        person_count += 1\n",
    "        group_answers += [letter for letter in answers]\n",
    "    else:\n",
    "        # I was sorting here for easier debugging view.\n",
    "        group_answers.sort()\n",
    "        unique_answers = set(group_answers)\n",
    "        for answer in unique_answers:\n",
    "            if group_answers.count(answer) == person_count:\n",
    "                running_total += 1\n",
    "        # Reset for the next group of answers.\n",
    "        group_answers.clear()\n",
    "        person_count = 0\n",
    "        current_group += 1\n",
    "\n",
    "# This would mean there's no blank line at the end of the input file.\n",
    "# In that case, this catches the last group that would be missed.\n",
    "if group_answers:\n",
    "    group_answers.sort()\n",
    "    unique_answers = set(group_answers)\n",
    "    for answer in unique_answers:\n",
    "        if group_answers.count(answer) == person_count:\n",
    "            running_total += 1\n",
    "\n",
    "print(running_total)"
   ]
  }
 ]
}